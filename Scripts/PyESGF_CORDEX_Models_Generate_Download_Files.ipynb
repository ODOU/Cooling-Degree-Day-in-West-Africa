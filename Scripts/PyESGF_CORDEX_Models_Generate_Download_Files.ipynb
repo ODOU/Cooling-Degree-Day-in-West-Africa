{
 "cells": [
  {
   "cell_type": "markdown",
   "metadata": {},
   "source": [
    "# Pyclient for ESGF Data download"
   ]
  },
  {
   "cell_type": "code",
   "execution_count": null,
   "metadata": {},
   "outputs": [],
   "source": [
    "# https://github.com/cehbrecht/jupyterlab-notebooks/blob/master/esgf-examples/esgf-pydap.ipynb"
   ]
  },
  {
   "cell_type": "code",
   "execution_count": null,
   "metadata": {},
   "outputs": [],
   "source": [
    "# https://esgf-pyclient.readthedocs.io/en/latest/notebooks/examples/download.html"
   ]
  },
  {
   "cell_type": "code",
   "execution_count": null,
   "metadata": {},
   "outputs": [],
   "source": [
    "# https://towardsdev.com/tricks-and-best-practices-from-kaggle-794a5914480f"
   ]
  },
  {
   "cell_type": "markdown",
   "metadata": {},
   "source": [
    "## Import packages"
   ]
  },
  {
   "cell_type": "code",
   "execution_count": 1,
   "metadata": {},
   "outputs": [],
   "source": [
    "from pyesgf.search import SearchConnection\n",
    "import os\n",
    "import pandas as pd\n",
    "import requests\n",
    "from tqdm import tqdm\n",
    "import xarray as xr\n",
    "import netCDF4"
   ]
  },
  {
   "cell_type": "markdown",
   "metadata": {},
   "source": [
    "## LOGIN CREDENTIALS"
   ]
  },
  {
   "cell_type": "code",
   "execution_count": 3,
   "metadata": {},
   "outputs": [],
   "source": [
    "from pyesgf.logon import LogonManager\n",
    "lm = LogonManager()\n",
    "lm.logoff()\n",
    "lm.is_logged_on()"
   ]
  },
  {
   "cell_type": "code",
   "execution_count": null,
   "metadata": {},
   "outputs": [],
   "source": [
    "lm.logon(hostname=\"esgf-data.dkrz.de\", bootstrap=True, interactive=True)\n",
    "#Enter myproxy username:OLUWAROTIMI\n",
    "#mypassword='Odou1@@@@@@@'\n",
    "lm.is_logged_on()"
   ]
  },
  {
   "cell_type": "code",
   "execution_count": null,
   "metadata": {},
   "outputs": [],
   "source": [
    "#Secure good session and next authentification path\n",
    "openid='https://esgf-data.dkrz.de/esgf-idp/openid/OLUWAROTIMI'\n",
    "password='Odou1@@@@@@@'\n",
    "from pydap.client import open_url\n",
    "from pydap.cas.esgf import setup_session\n",
    "dataset_url ='http://esg-dn1.nsc.liu.se/thredds/dodsC/esg_dataroot1/cordexdata/cordex/output/AFR-44/SMHI/CNRM-CERFACS-CNRM-CM5/historical/r1i1p1/SMHI-RCA4/v1/day/tasmax/v20130927/tasmax_AFR-44_CNRM-CERFACS-CNRM-CM5_historical_r1i1p1_SMHI-RCA4_v1_day_19510101-19551231.nc'\n",
    "session = setup_session(openid, password, check_url=dataset_url, verify=True)\n",
    "dataset = open_url(dataset_url, session=session)"
   ]
  },
  {
   "cell_type": "markdown",
   "metadata": {},
   "source": [
    "## SearchConnection: instances represent a connection to an ESGF Search web service. This stores the service URL and also service-level parameters like distrib and shards"
   ]
  },
  {
   "cell_type": "code",
   "execution_count": 4,
   "metadata": {},
   "outputs": [],
   "source": [
    "CORDEX_MODEL=['CNRM-CERFACS-CNRM-CM5','CSIRO-QCCCE-CSIRO-Mk3-6-0','IPSL-IPSL-CM5A-MR','MIROC-MIROC5','MPI-M-MPI-ESM-LR',\n",
    "              'NCC-NorESM1-M','NOAA-GFDL-GFDL-ESM2M']"
   ]
  },
  {
   "cell_type": "code",
   "execution_count": null,
   "metadata": {},
   "outputs": [],
   "source": [
    "from  pyesgf.search  import  SearchConnection\n",
    "#conn = SearchConnection('http://esgf-data.dkrz.de/esg-search/', distrib=True)\n",
    "conn = SearchConnection('https://esgf-node.llnl.gov/esg-search', distrib=True)"
   ]
  },
  {
   "cell_type": "code",
   "execution_count": 6,
   "metadata": {
    "scrolled": false
   },
   "outputs": [
    {
     "data": {
      "text/plain": [
       "63"
      ]
     },
     "execution_count": 6,
     "metadata": {},
     "output_type": "execute_result"
    }
   ],
   "source": [
    "ctx = conn.new_context(\n",
    "project='CORDEX',\n",
    "time_frequency='day',\n",
    "ensemble='r1i1p1',\n",
    "experiment='historical,rcp45,rcp85',\n",
    "domain='AFR-44',\n",
    "driving_model=CORDEX_MODEL,\n",
    "#driving_model='CNRM-CERFACS-CNRM-CM5',\n",
    "rcm_name='RCA4',\n",
    "variable='tas,tasmax,tasmin',\n",
    "latest=True,\n",
    "#data_node='esgf-data.dkrz.de'\n",
    ")\n",
    "ctx.hit_count"
   ]
  },
  {
   "cell_type": "markdown",
   "metadata": {},
   "source": [
    "## Execute the search"
   ]
  },
  {
   "cell_type": "raw",
   "metadata": {},
   "source": [
    "len(results)"
   ]
  },
  {
   "cell_type": "code",
   "execution_count": 14,
   "metadata": {},
   "outputs": [],
   "source": [
    "# for each_hit in range(0,ctx.hit_count):\n",
    "#     print(str(each_hit)+'yy')"
   ]
  },
  {
   "cell_type": "code",
   "execution_count": null,
   "metadata": {},
   "outputs": [],
   "source": [
    "from  pyesgf.logon  import  LogonManager\n",
    "lm = LogonManager()\n",
    "lm.logoff()\n",
    "lm.is_logged_on()"
   ]
  },
  {
   "cell_type": "code",
   "execution_count": null,
   "metadata": {},
   "outputs": [],
   "source": [
    "myproxy_host = 'esgf-data.dkrz.de'\n",
    "lm.logon(username='OLUWAROTIMI', password='Odou1@@@@@@@', hostname=myproxy_host)\n",
    "lm.is_logged_on()"
   ]
  },
  {
   "cell_type": "code",
   "execution_count": 16,
   "metadata": {},
   "outputs": [],
   "source": [
    "import  tempfile\n",
    "import  os, subprocess"
   ]
  },
  {
   "cell_type": "code",
   "execution_count": 19,
   "metadata": {},
   "outputs": [],
   "source": [
    "ds = ctx.search()\n",
    "for each_hit in range(0,ctx.hit_count):\n",
    "    \n",
    "    print('=========Hit Process '+str(each_hit)+'/'+str(ctx.hit_count)+' Going on==========')\n",
    "    \n",
    "    fc=ds[each_hit].file_context()\n",
    "    wget_script_content = fc.get_download_script() #get script contents\n",
    "    \n",
    "    files=ds[each_hit].file_context().search()\n",
    "    files_opendap_url=sorted([i.opendap_url for i in files])\n",
    "    files_label=sorted([i.filename for i in files])\n",
    "    \n",
    "    outfilename='download_'+files_label[0][0:-20]+files_label[0][-20:-12]+'-'+files_label[len(files_label)-1][-11:-3]\n",
    "    script_path = tempfile.mkstemp(suffix='.sh', prefix=outfilename)[1]\n",
    "    \n",
    "    with  open(script_path, \"w\") as  writer:\n",
    "        writer.write(wget_script_content)\n",
    "        writer.close()\n",
    "    \n",
    "    os.chmod(script_path, 0o750)\n",
    "    \n",
    "    print ('File created : '+str(script_path)+'from hit '+str(each_hit))"
   ]
  },
  {
   "cell_type": "code",
   "execution_count": null,
   "metadata": {},
   "outputs": [],
   "source": []
  }
 ],
 "metadata": {
  "kernelspec": {
   "display_name": "Python 3",
   "language": "python",
   "name": "python3"
  },
  "language_info": {
   "codemirror_mode": {
    "name": "ipython",
    "version": 3
   },
   "file_extension": ".py",
   "mimetype": "text/x-python",
   "name": "python",
   "nbconvert_exporter": "python",
   "pygments_lexer": "ipython3",
   "version": "3.6.9"
  }
 },
 "nbformat": 4,
 "nbformat_minor": 4
}
